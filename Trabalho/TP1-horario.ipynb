{
 "cells": [
  {
   "cell_type": "markdown",
   "id": "d80f2f5c",
   "metadata": {},
   "source": [
    "GRUPO 20 - A81705 - João Pedro Carvalho Henriques"
   ]
  },
  {
   "cell_type": "code",
   "execution_count": 1,
   "id": "17b89969",
   "metadata": {},
   "outputs": [],
   "source": [
    "from ortools.linear_solver import pywraplp"
   ]
  },
  {
   "cell_type": "markdown",
   "id": "cab60c0b",
   "metadata": {},
   "source": [
    "Inputs do problema:\n",
    "- S - Sala \n",
    "- D - Dia \n",
    "- H - Hora\n",
    "- P - Projeto\n",
    "- C - Colaborador \n",
    "- reunioes - associa a cada projeto o numero de reuniões semanais\n",
    "- lider - associa a cada projeto o seu lider\n",
    "- colabs - associa a cada projeto os seus colaboradores(incluindo o lider)\n",
    "- dispColabs- associa a cada colaborador as slots diponiveis\n",
    "\n",
    "A familia de variáveis binárias $x_{s,d,h,p,c} = 1 $ sse o colaborador $c$, pertence ao projeto $p$, tem uma reunião num determinado dia $d$, na hora $h$, na sala $s$.\n",
    "\n",
    "Condições e restrições do problema:\n",
    "- 1 - Cada projeto tem um determinado número minimo de reuniões semanais.\n",
    "- 2 - Cada colaborador só pode ser colocado num slot em que esteja disponivel.\n",
    "- 3 - Cada colaborador só participa em reuniões de projetos em que está incluido.\n",
    "- 4 - Cada sala, num determinado dia e hora, tem alocada no máximo um projecto.\n",
    "- 5 - Cada colaborador de um projeto só pode estar numa sala.\n",
    "- 6 - Minimo de 50% de colaboradores nas reuniões\n",
    "- 7 -  O líder tem de participar em todas as reuniões do projeto."
   ]
  },
  {
   "cell_type": "code",
   "execution_count": 2,
   "id": "dac4d946",
   "metadata": {},
   "outputs": [],
   "source": [
    "#Inputs do problema\n",
    "S,D,H,P,C = 3,3,3,3,12\n",
    "\n",
    "\n",
    "reunioes = {0:2, 1:3, 2:4}\n",
    "lider = {0:0, 1:1, 2:2}\n",
    "colabs = {0:[0,3],1:[1,4,5,7],2:[2,9,8]}\n",
    "\n",
    "dispColabs = {}\n",
    "for c in range(C):\n",
    "    dispColabs[c] = [(d,h) for d in range(D) for h in range(H)]\n",
    "    "
   ]
  },
  {
   "cell_type": "code",
   "execution_count": 3,
   "id": "05ff804f",
   "metadata": {},
   "outputs": [],
   "source": [
    "#Inicialização do Solver\n",
    "horario = pywraplp.Solver.CreateSolver('SCIP')\n",
    "\n",
    "#Matriz de alocação\n",
    "x={}\n",
    "for s in range(S):\n",
    "    for d in range(D):\n",
    "        for h in range(H):\n",
    "            for p in range(P):\n",
    "                for c in range(C):\n",
    "                    x[s,d,h,p,c] = horario.BoolVar(f'x[%d,%d,%d,%d,%d]' % (s,h,d,p,c))\n",
    "                    "
   ]
  },
  {
   "cell_type": "markdown",
   "id": "69efb36f",
   "metadata": {},
   "source": [
    "1 - Cada projeto tem um determinado número minimo de reuniões semanais.\n",
    "$$ \\forall_{p<P} \\sum_{s<S,d<D,h<H} x_{s,d,h,p,lider_p} \\geq reunioes_p $$"
   ]
  },
  {
   "cell_type": "code",
   "execution_count": 4,
   "id": "0268d10f",
   "metadata": {},
   "outputs": [],
   "source": [
    "#o numero de reunioes do lider do projeto é superior ou igual ao numero de reunioes do projeto\n",
    "for p in range(P):\n",
    "    horario.Add(sum( x[s,d,h,p,lider[p]] for s in range(S) for d in range(D) for h in range(H)) >= reunioes[p])\n",
    "\n"
   ]
  },
  {
   "cell_type": "markdown",
   "id": "5ae74ff7",
   "metadata": {},
   "source": [
    "2 - Cada colaborador só pode ser colocado num slot em que esteja disponivel.\n",
    "$$ \\forall_{s<S,d<D,h<H,p<P,c<C} \\ (d,h) \\notin dispColabs_c \\ \\rightarrow \\ x_{s,d,h,p,c} = 0 $$"
   ]
  },
  {
   "cell_type": "code",
   "execution_count": 5,
   "id": "9475e1f5",
   "metadata": {},
   "outputs": [],
   "source": [
    "for s in range(S):\n",
    "    for d in range(D):\n",
    "        for h in range(H):\n",
    "            for p in range(P):\n",
    "                for c in range(C):\n",
    "                    if (d,h) not in dispColabs[c]:\n",
    "                        horario.Add(x[s,d,h,p,c] == 0)"
   ]
  },
  {
   "cell_type": "markdown",
   "id": "b96e1614",
   "metadata": {},
   "source": [
    "3-Cada colaborador só participa em reuniões de projetos em que está incluido.\n",
    "$$ \\forall_{s<S,d<D,h<H,p<P,c<C} \\ c \\notin colabs_p \\ \\rightarrow \\ x_{s,d,h,p,c} = 0 $$"
   ]
  },
  {
   "cell_type": "code",
   "execution_count": 6,
   "id": "225749f6",
   "metadata": {},
   "outputs": [],
   "source": [
    "for s in range(S):\n",
    "    for d in range(D):\n",
    "        for h in range(H):\n",
    "            for p in range(P):\n",
    "                for c in range(C):\n",
    "                    if c not in colabs[p]:\n",
    "                        horario.Add(x[s,d,h,p,c] == 0)"
   ]
  },
  {
   "cell_type": "markdown",
   "id": "7dd723e7",
   "metadata": {},
   "source": [
    "4-Cada sala, num determinado dia e hora, tem alocada no máximo um projecto.\n",
    "$$ \\forall_{s<S,d<D,h<H,} \\sum_{p<P}  x_{s,d,h,p,lider_p} \\leq 1$$"
   ]
  },
  {
   "cell_type": "code",
   "execution_count": 7,
   "id": "33b5ffb2",
   "metadata": {},
   "outputs": [],
   "source": [
    "for s in range(S):\n",
    "    for d in range(D):\n",
    "        for h in range(H):\n",
    "            horario.Add(sum(x[s,d,h,p,lider[p]] for p in range(P)) <= 1)"
   ]
  },
  {
   "cell_type": "markdown",
   "id": "d79d453f",
   "metadata": {},
   "source": [
    "5 - Cada colaborador de um projeto só pode estar numa sala.\n",
    "$$ \\forall_{d<D,h<H,p<P,c \\in colabs_C} \\sum_{s<S} x_{s,d,h,p,c} \\leq 1 $$"
   ]
  },
  {
   "cell_type": "code",
   "execution_count": 8,
   "id": "4356614d",
   "metadata": {},
   "outputs": [],
   "source": [
    "for d in range(D):\n",
    "    for h in range(H):\n",
    "        for p in range(P):\n",
    "            for c in colabs[p]:\n",
    "                horario.Add(sum(x[s,d,h,p,c] for s in range(S)) <= 1)"
   ]
  },
  {
   "cell_type": "markdown",
   "id": "8cf3fe74",
   "metadata": {},
   "source": [
    "6 - Minimo de 50% de colaboradores nas reuniões\n",
    "$$ \\forall_{d<D,p<P,s<S,h<H} \\sum_{c \\in colabs_p} x_{s,d,h,p,c} \\geq  0.5 * len(colabs_p) $$"
   ]
  },
  {
   "cell_type": "code",
   "execution_count": 9,
   "id": "75135578",
   "metadata": {},
   "outputs": [],
   "source": [
    "for d in range(D):\n",
    "    for p in range(P):\n",
    "        for s in range(S):\n",
    "            for h in range(H):\n",
    "                horario.Add(sum(x[s,d,h,p,c] for c in colabs[p]) >= 0.5*len(colabs[p])*x[s,d,h,p,lider[p]])"
   ]
  },
  {
   "cell_type": "markdown",
   "id": "5b97844d",
   "metadata": {},
   "source": [
    "7 - O líder tem de participar em todas as reuniões do projeto.\n",
    "$$ \\forall_{s<S,h<H,p<P,c<C} (x_{s,d,h,p,c}=1) \\rightarrow (x_{s,d,h,lider_p} = 1)  $$"
   ]
  },
  {
   "cell_type": "code",
   "execution_count": 10,
   "id": "3fe27f09",
   "metadata": {},
   "outputs": [],
   "source": [
    "#se um colaborador participa numa reuniao, obrigatoriamente o lider tambem participa\n",
    "\n",
    "for s in range(S):\n",
    "    for d in range(D):\n",
    "        for h in range(H):\n",
    "            for p in range(P):\n",
    "                for c in colabs[p]:\n",
    "                    horario.Add(x[s,d,h,p,lider[p]] >= x[s,d,h,p,c])\n",
    "                   \n",
    "\n"
   ]
  },
  {
   "cell_type": "code",
   "execution_count": null,
   "id": "ea8a950b",
   "metadata": {},
   "outputs": [],
   "source": []
  },
  {
   "cell_type": "code",
   "execution_count": 11,
   "id": "833c1407",
   "metadata": {},
   "outputs": [
    {
     "name": "stdout",
     "output_type": "stream",
     "text": [
      "SAT\n"
     ]
    }
   ],
   "source": [
    "#Procura da solução do problema\n",
    "status = horario.Solve()\n",
    "if status == pywraplp.Solver.OPTIMAL:\n",
    "    print(\"SAT\")\n",
    "else:\n",
    "    print(\"UNSAT\")"
   ]
  },
  {
   "cell_type": "code",
   "execution_count": 12,
   "id": "7c676861",
   "metadata": {
    "scrolled": true
   },
   "outputs": [
    {
     "name": "stdout",
     "output_type": "stream",
     "text": [
      "Dia: 0\n",
      "Projeto: 0 Hora: 0 Sala: 2 Colaborador: 0\n",
      "Projeto: 0 Hora: 1 Sala: 1 Colaborador: 0\n",
      "Projeto: 0 Hora: 2 Sala: 0 Colaborador: 0\n",
      "Projeto: 1 Hora: 0 Sala: 0 Colaborador: 1\n",
      "Projeto: 1 Hora: 0 Sala: 0 Colaborador: 4\n",
      "Projeto: 1 Hora: 0 Sala: 0 Colaborador: 5\n",
      "Projeto: 1 Hora: 0 Sala: 0 Colaborador: 7\n",
      "Projeto: 1 Hora: 1 Sala: 2 Colaborador: 1\n",
      "Projeto: 1 Hora: 1 Sala: 2 Colaborador: 4\n",
      "Projeto: 1 Hora: 1 Sala: 2 Colaborador: 5\n",
      "Projeto: 1 Hora: 1 Sala: 2 Colaborador: 7\n",
      "Projeto: 1 Hora: 2 Sala: 2 Colaborador: 1\n",
      "Projeto: 1 Hora: 2 Sala: 2 Colaborador: 4\n",
      "Projeto: 1 Hora: 2 Sala: 2 Colaborador: 5\n",
      "Projeto: 1 Hora: 2 Sala: 2 Colaborador: 7\n",
      "Projeto: 2 Hora: 0 Sala: 1 Colaborador: 2\n",
      "Projeto: 2 Hora: 0 Sala: 1 Colaborador: 9\n",
      "Projeto: 2 Hora: 0 Sala: 1 Colaborador: 8\n",
      "Projeto: 2 Hora: 2 Sala: 1 Colaborador: 2\n",
      "Projeto: 2 Hora: 2 Sala: 1 Colaborador: 9\n",
      "Projeto: 2 Hora: 2 Sala: 1 Colaborador: 8\n",
      "Dia: 1\n",
      "Projeto: 0 Hora: 0 Sala: 2 Colaborador: 0\n",
      "Projeto: 0 Hora: 1 Sala: 0 Colaborador: 0\n",
      "Projeto: 0 Hora: 2 Sala: 1 Colaborador: 0\n",
      "Projeto: 1 Hora: 0 Sala: 1 Colaborador: 1\n",
      "Projeto: 1 Hora: 0 Sala: 1 Colaborador: 4\n",
      "Projeto: 1 Hora: 0 Sala: 1 Colaborador: 5\n",
      "Projeto: 1 Hora: 0 Sala: 1 Colaborador: 7\n",
      "Projeto: 1 Hora: 1 Sala: 2 Colaborador: 1\n",
      "Projeto: 1 Hora: 1 Sala: 2 Colaborador: 4\n",
      "Projeto: 1 Hora: 1 Sala: 2 Colaborador: 5\n",
      "Projeto: 1 Hora: 1 Sala: 2 Colaborador: 7\n",
      "Projeto: 1 Hora: 2 Sala: 2 Colaborador: 1\n",
      "Projeto: 1 Hora: 2 Sala: 2 Colaborador: 4\n",
      "Projeto: 1 Hora: 2 Sala: 2 Colaborador: 5\n",
      "Projeto: 1 Hora: 2 Sala: 2 Colaborador: 7\n",
      "Projeto: 2 Hora: 1 Sala: 1 Colaborador: 2\n",
      "Projeto: 2 Hora: 1 Sala: 1 Colaborador: 9\n",
      "Projeto: 2 Hora: 1 Sala: 1 Colaborador: 8\n",
      "Dia: 2\n",
      "Projeto: 0 Hora: 0 Sala: 0 Colaborador: 0\n",
      "Projeto: 0 Hora: 1 Sala: 1 Colaborador: 0\n",
      "Projeto: 0 Hora: 2 Sala: 1 Colaborador: 0\n",
      "Projeto: 1 Hora: 0 Sala: 2 Colaborador: 1\n",
      "Projeto: 1 Hora: 0 Sala: 2 Colaborador: 4\n",
      "Projeto: 1 Hora: 0 Sala: 2 Colaborador: 5\n",
      "Projeto: 1 Hora: 0 Sala: 2 Colaborador: 7\n",
      "Projeto: 1 Hora: 1 Sala: 2 Colaborador: 1\n",
      "Projeto: 1 Hora: 1 Sala: 2 Colaborador: 4\n",
      "Projeto: 1 Hora: 1 Sala: 2 Colaborador: 5\n",
      "Projeto: 1 Hora: 1 Sala: 2 Colaborador: 7\n",
      "Projeto: 1 Hora: 2 Sala: 2 Colaborador: 1\n",
      "Projeto: 1 Hora: 2 Sala: 2 Colaborador: 4\n",
      "Projeto: 1 Hora: 2 Sala: 2 Colaborador: 5\n",
      "Projeto: 1 Hora: 2 Sala: 2 Colaborador: 7\n",
      "Projeto: 2 Hora: 0 Sala: 1 Colaborador: 2\n",
      "Projeto: 2 Hora: 0 Sala: 1 Colaborador: 9\n",
      "Projeto: 2 Hora: 0 Sala: 1 Colaborador: 8\n"
     ]
    }
   ],
   "source": [
    "#print\n",
    "for d in range(D):\n",
    "    print(\"Dia:\" , d)\n",
    "    for p in range(P):\n",
    "        for h in range(H):\n",
    "            for s in range(S):\n",
    "                for c in colabs[p]:\n",
    "                    if round(x[s,d,h,p,c].solution_value()) == 1:\n",
    "                        print(\"Projeto:\" , p, \"Hora:\", h, \"Sala:\", s, \"Colaborador:\", c)"
   ]
  }
 ],
 "metadata": {
  "kernelspec": {
   "display_name": "Python 3 (ipykernel)",
   "language": "python",
   "name": "python3"
  },
  "language_info": {
   "codemirror_mode": {
    "name": "ipython",
    "version": 3
   },
   "file_extension": ".py",
   "mimetype": "text/x-python",
   "name": "python",
   "nbconvert_exporter": "python",
   "pygments_lexer": "ipython3",
   "version": "3.9.7"
  }
 },
 "nbformat": 4,
 "nbformat_minor": 5
}
